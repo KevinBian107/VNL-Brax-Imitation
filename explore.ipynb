{
 "cells": [
  {
   "cell_type": "markdown",
   "metadata": {},
   "source": [
    "# Brax Environment & State\n",
    "Need to restart kernal to reflect changes made"
   ]
  },
  {
   "cell_type": "code",
   "execution_count": 1,
   "metadata": {},
   "outputs": [],
   "source": [
    "from BaseRodentEnv import Rodent\n",
    "from brax import envs\n",
    "import jax\n",
    "import numpy as np\n",
    "import mediapy as media\n",
    "from flax import linen as nn\n",
    "from typing import Any, Callable, Sequence\n",
    "import jax.numpy as jnp\n",
    "from jax import random"
   ]
  },
  {
   "cell_type": "code",
   "execution_count": 2,
   "metadata": {},
   "outputs": [
    {
     "data": {
      "text/plain": [
       "BaseRodentEnv.Rodent"
      ]
     },
     "execution_count": 2,
     "metadata": {},
     "output_type": "execute_result"
    }
   ],
   "source": [
    "Rodent"
   ]
  },
  {
   "cell_type": "code",
   "execution_count": 3,
   "metadata": {},
   "outputs": [],
   "source": [
    "envs.register_environment('rodent', Rodent)"
   ]
  },
  {
   "cell_type": "code",
   "execution_count": 4,
   "metadata": {},
   "outputs": [],
   "source": [
    "env = envs.get_environment(env_name='rodent')"
   ]
  },
  {
   "cell_type": "code",
   "execution_count": null,
   "metadata": {},
   "outputs": [],
   "source": [
    "jit_reset = jax.jit(env.reset)\n",
    "jit_step = jax.jit(env.step)\n",
    "state = jit_reset(jax.random.PRNGKey(0))"
   ]
  },
  {
   "cell_type": "code",
   "execution_count": null,
   "metadata": {},
   "outputs": [],
   "source": [
    "state.pipeline_state"
   ]
  },
  {
   "cell_type": "code",
   "execution_count": null,
   "metadata": {},
   "outputs": [],
   "source": [
    "rollout = [state.pipeline_state]\n",
    "\n",
    "for i in (range(50)):\n",
    "    ctrl = jax.numpy.array(np.random.uniform(-1,1, env.sys.nu))\n",
    "    state = jit_step(state, ctrl)\n",
    "    rollout.append(state.pipeline_state)"
   ]
  },
  {
   "cell_type": "code",
   "execution_count": null,
   "metadata": {},
   "outputs": [],
   "source": [
    "media.show_video(env.render(rollout,camera='close_profile'), fps=1.0 / env.dt)"
   ]
  },
  {
   "cell_type": "code",
   "execution_count": null,
   "metadata": {},
   "outputs": [],
   "source": [
    "# import jax\n",
    "# import mujoco\n",
    "# from mujoco import mjx\n",
    "# data_path = \"adam_exp_tr.p\""
   ]
  },
  {
   "cell_type": "code",
   "execution_count": null,
   "metadata": {},
   "outputs": [],
   "source": [
    "# import pickle\n",
    "# with open(data_path, \"rb\") as file:\n",
    "#     data = pickle.load(file)"
   ]
  },
  {
   "cell_type": "markdown",
   "metadata": {},
   "source": [
    "# Networks & Flax.linen"
   ]
  },
  {
   "cell_type": "code",
   "execution_count": null,
   "metadata": {},
   "outputs": [],
   "source": [
    "class MLP(nn.Module):\n",
    "  features: Sequence[int]\n",
    "\n",
    "  @nn.compact\n",
    "  def __call__(self, x):\n",
    "    for feat in self.features[:-1]:\n",
    "      x = nn.relu(nn.Dense(feat)(x))\n",
    "    x = nn.Dense(self.features[-1])(x)\n",
    "    return x\n",
    "  \n",
    "class AutoEncoder(nn.Module):\n",
    "  encoder_widths: Sequence[int]\n",
    "  decoder_widths: Sequence[int]\n",
    "  input_shape: Sequence[int]\n",
    "\n",
    "  def setup(self):\n",
    "    input_dim = np.prod(self.input_shape)\n",
    "    self.encoder = MLP(self.encoder_widths)\n",
    "    self.decoder = MLP(self.decoder_widths + (input_dim,))\n",
    "\n",
    "  def __call__(self, x):\n",
    "    return self.decode(self.encode(x))\n",
    "\n",
    "  def encode(self, x):\n",
    "    assert x.shape[1:] == self.input_shape\n",
    "    return self.encoder(jnp.reshape(x, (x.shape[0], -1)))\n",
    "\n",
    "  def decode(self, z):\n",
    "    z = self.decoder(z)\n",
    "    x = nn.sigmoid(z)\n",
    "    x = jnp.reshape(x, (x.shape[0],) + self.input_shape)\n",
    "    return x"
   ]
  },
  {
   "cell_type": "code",
   "execution_count": null,
   "metadata": {},
   "outputs": [],
   "source": [
    "model = AutoEncoder(encoder_widths=[20, 10, 5],\n",
    "                    decoder_widths=[5, 10, 20],\n",
    "                    input_shape=(12,))\n",
    "\n",
    "batch = jnp.ones((16, 12))\n",
    "variables = model.init(jax.random.key(0), batch)\n",
    "encoded = model.apply(variables, batch, method=model.encode)\n",
    "decoded = model.apply(variables, encoded, method=model.decode)"
   ]
  },
  {
   "cell_type": "code",
   "execution_count": null,
   "metadata": {},
   "outputs": [],
   "source": [
    "ActivationFn = Callable[[jnp.ndarray], jnp.ndarray]\n",
    "Initializer = Callable[..., Any]\n",
    "\n",
    "class Decoder(nn.Module):\n",
    "    '''DEcoder for VAE'''\n",
    "    layer_sizes: Sequence[int]\n",
    "    activation: ActivationFn = nn.tanh\n",
    "    kernel_init: Initializer = jax.nn.initializers.lecun_uniform()\n",
    "    activate_final: bool = False\n",
    "    bias: bool = True\n",
    "\n",
    "    @nn.compact\n",
    "    def __call__(self, x: jnp.ndarray):\n",
    "        for i, hidden_size in enumerate(self.layer_sizes):\n",
    "            x = nn.Dense(\n",
    "                hidden_size,\n",
    "                name=f'hidden_{i}',\n",
    "                kernel_init=self.kernel_init,\n",
    "                use_bias=self.bias)(x)\n",
    "            if i != len(self.layer_sizes) - 1 or self.activate_final:\n",
    "                x = self.activation(x)\n",
    "        return x"
   ]
  },
  {
   "cell_type": "code",
   "execution_count": null,
   "metadata": {},
   "outputs": [],
   "source": [
    "class Encoder(nn.Module):\n",
    "    '''Encoder for VAE'''\n",
    "    layer_sizes: Sequence[int]\n",
    "    activation: ActivationFn = nn.tanh\n",
    "    kernel_init: Initializer = jax.nn.initializers.lecun_uniform()\n",
    "    bias: bool = True\n",
    "    latents: int=60\n",
    "    \n",
    "    @nn.compact\n",
    "    def __call__(self, x: jnp.ndarray):\n",
    "        # For each layer in the sequence, make a dense net and apply layernorm then tanh\n",
    "        for i, hidden_size in enumerate(self.layer_sizes):\n",
    "            x = nn.Dense(\n",
    "                hidden_size,\n",
    "                name=f'hidden_{i}',\n",
    "                kernel_init=self.kernel_init,\n",
    "                use_bias=self.bias)(x)\n",
    "            x = nn.LayerNorm(x)\n",
    "            x = self.activation(x)\n",
    "            \n",
    "        mean_x = nn.Dense(self.latents, name='fc2_mean')(x)\n",
    "        logvar_x = nn.Dense(self.latents, name='fc2_logvar')(x)\n",
    "        return mean_x, logvar_x"
   ]
  },
  {
   "cell_type": "markdown",
   "metadata": {},
   "source": [
    "# reset_function()"
   ]
  },
  {
   "cell_type": "code",
   "execution_count": 2,
   "metadata": {},
   "outputs": [],
   "source": [
    "envs.register_environment('rodent', Rodent)\n",
    "env = envs.get_environment(env_name='rodent')"
   ]
  },
  {
   "cell_type": "markdown",
   "metadata": {},
   "source": [
    "Make random trajectory"
   ]
  },
  {
   "cell_type": "code",
   "execution_count": 17,
   "metadata": {},
   "outputs": [],
   "source": [
    "# traj = {'qpos':jnp.arange(250), 'qvel':jnp.arange(250)}\n",
    "\n",
    "# key = jax.random.PRNGKey(1)\n",
    "# max_start_index = len(traj['qpos']) - 150\n",
    "# start_index = jax.random.randint(key, (1,), 0, max_start_index)[0]\n",
    "\n",
    "# sliced_qpos = traj['qpos'][start_index:start_index + 150]\n",
    "# sliced_qvel = traj['qvel'][start_index:start_index + 150]\n",
    "\n",
    "# sliced_traj = {'qpos': sliced_qpos, 'qvel': sliced_qvel}\n",
    "# sliced_traj\n",
    "\n",
    "# key = random.PRNGKey(90)\n",
    "# frame = jnp.arange(250)\n",
    "# traj = {'qpos':jnp.arange(5 * 74 * 250), 'qvel':jnp.arange(5 * 74 * 250)}\n",
    "# random_frame = jax.random.randint(key,(1,), 0, len(frame))[0]\n",
    "# # need to make sure slice index not excedding\n",
    "\n",
    "# # qpos should be one 74 length jp.array here\n",
    "# qpos = traj['qpos'][250*random_frame: 250*random_frame+74] # start with spcific frame\n",
    "# qvel = traj['qvel'][250*random_frame: 250*random_frame+74]\n",
    "\n",
    "# jax.lax.dynamic_slice(traj['qpos'], [250*random_frame], [74])"
   ]
  },
  {
   "cell_type": "code",
   "execution_count": 4,
   "metadata": {},
   "outputs": [],
   "source": [
    "jit_reset = jax.jit(env.reset)\n",
    "# jit_reset(jax.random.PRNGKey(0))"
   ]
  },
  {
   "cell_type": "markdown",
   "metadata": {},
   "source": [
    "Make random keys with specific dimensions"
   ]
  },
  {
   "cell_type": "code",
   "execution_count": 5,
   "metadata": {},
   "outputs": [
    {
     "data": {
      "text/plain": [
       "Array([1468288049, 2628321454], dtype=uint32)"
      ]
     },
     "execution_count": 5,
     "metadata": {},
     "output_type": "execute_result"
    }
   ],
   "source": [
    "key = jax.random.PRNGKey(100)\n",
    "global_key, local_key = jax.random.split(key)\n",
    "local_key, key_env, eval_key = jax.random.split(local_key, 3)\n",
    "key_env"
   ]
  },
  {
   "cell_type": "code",
   "execution_count": 6,
   "metadata": {},
   "outputs": [],
   "source": [
    "# jax.process_count()\n",
    "# jax.local_device_count()"
   ]
  },
  {
   "cell_type": "code",
   "execution_count": 7,
   "metadata": {},
   "outputs": [
    {
     "name": "stdout",
     "output_type": "stream",
     "text": [
      "[[ 962186518 1447979288]]\n",
      "[[[ 962186518 1447979288]]]\n"
     ]
    }
   ],
   "source": [
    "num_envs = 1\n",
    "process_count = jax.process_count()\n",
    "local_device_count = jax.local_device_count()\n",
    "local_devices_to_use = local_device_count\n",
    "\n",
    "key_envs = jax.random.split(key_env, num_envs // process_count)\n",
    "print(key_envs)\n",
    "key_envs = jnp.reshape(key_envs, (local_devices_to_use, -1) + key_envs.shape[1:])\n",
    "print(key_envs)"
   ]
  },
  {
   "cell_type": "markdown",
   "metadata": {},
   "source": [
    "Wrapper function"
   ]
  },
  {
   "cell_type": "code",
   "execution_count": 8,
   "metadata": {},
   "outputs": [],
   "source": [
    "wrap_for_training = envs.training.wrap\n",
    "env_wrapped = wrap_for_training(env,action_repeat=1,episode_length=10)"
   ]
  },
  {
   "cell_type": "markdown",
   "metadata": {},
   "source": [
    "`vmap` in JAX is a powerful function that vectorizes a given function over one or more of its input dimensions. This means it automatically applies the function in a batched manner across an axis of an array, efficiently handling multiple inputs at once without the need for explicit loops. This is particularly useful for speeding up calculations in machine learning and numerical computing by leveraging vectorized operations, which are typically faster than iterating through inputs one by one."
   ]
  },
  {
   "cell_type": "code",
   "execution_count": 18,
   "metadata": {},
   "outputs": [
    {
     "data": {
      "text/plain": [
       "<PjitFunction of <function AutoResetWrapper.reset at 0x3119b77f0>>"
      ]
     },
     "execution_count": 18,
     "metadata": {},
     "output_type": "execute_result"
    }
   ],
   "source": [
    "reset_fn = jax.jit(jax.vmap(env_wrapped.reset))\n",
    "reset_fn"
   ]
  },
  {
   "cell_type": "code",
   "execution_count": 19,
   "metadata": {},
   "outputs": [
    {
     "name": "stdout",
     "output_type": "stream",
     "text": [
      "(74,) (73,)\n"
     ]
    },
    {
     "name": "stderr",
     "output_type": "stream",
     "text": [
      "/Users/kevinb/Desktop/salk/rodent/VNL-Brax-Imitation/brax-imitation/lib/python3.10/site-packages/jax/_src/ops/scatter.py:96: FutureWarning: scatter inputs have incompatible types: cannot safely cast value from dtype=float32 to dtype=int32 with jax_numpy_dtype_promotion='standard'. In future JAX releases this will result in an error.\n",
      "  warnings.warn(\n"
     ]
    }
   ],
   "source": [
    "env_state = reset_fn(key_envs)"
   ]
  },
  {
   "cell_type": "code",
   "execution_count": 20,
   "metadata": {},
   "outputs": [
    {
     "data": {
      "text/plain": [
       "(1, 1, 74)"
      ]
     },
     "execution_count": 20,
     "metadata": {},
     "output_type": "execute_result"
    }
   ],
   "source": [
    "env_state.pipeline_state.qpos.shape"
   ]
  },
  {
   "cell_type": "code",
   "execution_count": 21,
   "metadata": {},
   "outputs": [
    {
     "data": {
      "text/plain": [
       "(74,)"
      ]
     },
     "execution_count": 21,
     "metadata": {},
     "output_type": "execute_result"
    }
   ],
   "source": [
    "env.sys.qpos0.shape"
   ]
  },
  {
   "cell_type": "code",
   "execution_count": 22,
   "metadata": {},
   "outputs": [
    {
     "name": "stdout",
     "output_type": "stream",
     "text": [
      "74 73\n"
     ]
    }
   ],
   "source": [
    "print(env.sys.nq, env.sys.nv)"
   ]
  },
  {
   "cell_type": "code",
   "execution_count": 23,
   "metadata": {},
   "outputs": [
    {
     "data": {
      "text/plain": [
       "Array([[[26750, 26751, 26752, 26753, 26754, 26755, 26756, 26757, 26758,\n",
       "         26759, 26760, 26761, 26762, 26763, 26764, 26765, 26766, 26767,\n",
       "         26768, 26769, 26770, 26771, 26772, 26773, 26774, 26775, 26776,\n",
       "         26777, 26778, 26779, 26780, 26781, 26782, 26783, 26784, 26785,\n",
       "         26786, 26787, 26788, 26789, 26790, 26791, 26792, 26793, 26794,\n",
       "         26795, 26796, 26797, 26798, 26799, 26800, 26801, 26802, 26803,\n",
       "         26804, 26805, 26806, 26807, 26808, 26809, 26810, 26811, 26812,\n",
       "         26813, 26814, 26815, 26816, 26817, 26818, 26819, 26820, 26821,\n",
       "         26822]]], dtype=int32)"
      ]
     },
     "execution_count": 23,
     "metadata": {},
     "output_type": "execute_result"
    }
   ],
   "source": [
    "env_state.pipeline_state.qvel"
   ]
  },
  {
   "cell_type": "code",
   "execution_count": null,
   "metadata": {},
   "outputs": [],
   "source": []
  },
  {
   "cell_type": "code",
   "execution_count": null,
   "metadata": {},
   "outputs": [],
   "source": []
  },
  {
   "cell_type": "code",
   "execution_count": null,
   "metadata": {},
   "outputs": [],
   "source": []
  }
 ],
 "metadata": {
  "kernelspec": {
   "display_name": "dsc80",
   "language": "python",
   "name": "python3"
  },
  "language_info": {
   "codemirror_mode": {
    "name": "ipython",
    "version": 3
   },
   "file_extension": ".py",
   "mimetype": "text/x-python",
   "name": "python",
   "nbconvert_exporter": "python",
   "pygments_lexer": "ipython3",
   "version": "3.10.9"
  }
 },
 "nbformat": 4,
 "nbformat_minor": 2
}
